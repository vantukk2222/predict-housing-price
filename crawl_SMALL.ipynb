{
 "cells": [
  {
   "cell_type": "code",
   "execution_count": 11,
   "metadata": {},
   "outputs": [],
   "source": [
    "from selenium import webdriver\n",
    "from selenium.webdriver.chrome.options import Options\n",
    "from selenium.webdriver.common.by import By\n",
    "import time\n",
    "import requests"
   ]
  },
  {
   "cell_type": "code",
   "execution_count": 12,
   "metadata": {},
   "outputs": [],
   "source": [
    "#cấu hình chrome driver\n",
    "chrome_options = Options()\n",
    "chrome_options.add_argument(\"--incognito\")\n",
    "chrome_options.add_argument(\"--headless\")\n",
    "chrome_options.add_argument('--blink-settings=imagesEnabled=false')\n",
    "chrome_options.add_argument(\"--disable-gpu\")"
   ]
  },
  {
   "cell_type": "code",
   "execution_count": 13,
   "metadata": {},
   "outputs": [
    {
     "name": "stderr",
     "output_type": "stream",
     "text": [
      "C:\\Users\\ntu96\\AppData\\Local\\Temp\\ipykernel_18296\\3663994960.py:2: DeprecationWarning: use options instead of chrome_options\n",
      "  driver = webdriver.Chrome(chrome_options=chrome_options, executable_path=\"chromedriver\")\n"
     ]
    }
   ],
   "source": [
    "#khởi tạo driver\n",
    "driver = webdriver.Chrome(chrome_options=chrome_options, executable_path=\"chromedriver\")"
   ]
  },
  {
   "cell_type": "code",
   "execution_count": 14,
   "metadata": {},
   "outputs": [],
   "source": [
    "#lấy tọa độ từ địa chỉ\n",
    "def get_location(address):\n",
    "    key='tUuAAEMo5QSEJdJ39e4nxVLGr904SxhF'\n",
    "    url='https://www.mapquestapi.com/geocoding/v1/address?key='\n",
    "    main_url=url+key+'&location='+address\n",
    "    r=requests.get(main_url)\n",
    "    data=r.json()['results'][0]\n",
    "    location=data['locations'][0]\n",
    "    lat=location['latLng']['lat']\n",
    "    long=location['latLng']['lng']\n",
    "    return (lat,long)"
   ]
  },
  {
   "cell_type": "code",
   "execution_count": 15,
   "metadata": {},
   "outputs": [
    {
     "name": "stdout",
     "output_type": "stream",
     "text": [
      "Page 1 done\n",
      "Page 2 done\n",
      "Page 3 done\n",
      "Page 4 done\n",
      "Page 5 done\n",
      "Page 6 done\n",
      "Page 7 done\n",
      "Page 8 done\n",
      "Page 9 done\n",
      "Page 10 done\n",
      "Page 11 done\n",
      "Page 12 done\n",
      "Page 13 done\n",
      "Page 14 done\n",
      "Page 15 done\n",
      "Page 16 done\n",
      "Page 17 done\n",
      "Page 18 done\n",
      "Page 19 done\n",
      "Page 20 done\n",
      "Page 21 done\n",
      "Page 22 done\n",
      "Page 23 done\n",
      "Page 24 done\n",
      "Page 25 done\n",
      "Page 26 done\n",
      "Page 27 done\n",
      "Page 28 done\n",
      "Page 29 done\n",
      "Page 30 done\n",
      "Page 31 done\n",
      "Page 32 done\n",
      "Page 33 done\n",
      "Page 34 done\n",
      "Page 35 done\n",
      "Page 36 done\n",
      "Page 37 done\n",
      "Page 38 done\n",
      "Page 39 done\n",
      "Page 40 done\n",
      "Page 41 done\n",
      "Page 42 done\n",
      "Page 43 done\n",
      "Page 44 done\n",
      "Page 45 done\n",
      "Page 46 done\n",
      "Page 47 done\n",
      "Page 48 done\n",
      "Page 49 done\n",
      "Page 50 done\n",
      "Page 51 done\n",
      "Page 52 done\n",
      "Page 53 done\n",
      "Page 54 done\n",
      "Page 55 done\n",
      "Page 56 done\n",
      "Page 57 done\n",
      "Page 58 done\n",
      "Page 59 done\n",
      "Page 60 done\n",
      "Page 61 done\n",
      "Page 62 done\n",
      "Page 63 done\n",
      "Page 64 done\n",
      "Page 65 done\n",
      "Page 66 done\n",
      "Page 67 done\n",
      "Page 68 done\n",
      "Page 69 done\n",
      "Page 70 done\n",
      "1050 links extracted\n"
     ]
    }
   ],
   "source": [
    "# xác định số lượng trang\n",
    "start_page = 1\n",
    "end_page = 70\n",
    "\n",
    "# tạo danh sach chứa các thông tin\n",
    "links = []\n",
    "prices = []\n",
    "areas = []\n",
    "rooms = []\n",
    "toilets = []\n",
    "addresses = []\n",
    "lats = []\n",
    "longs = []\n",
    "\n",
    "# quét tất cả trang\n",
    "for page in range(start_page, end_page+1):\n",
    "\n",
    "    url = f'https://mogi.vn/da-nang/mua-nha-dat?cp={page}'\n",
    "    driver.get(url)\n",
    "\n",
    "    # Wait for the page to load\n",
    "    time.sleep(0.5)\n",
    "\n",
    "    # Get the list of all listings\n",
    "    listings = driver.find_elements(By.CLASS_NAME,'prop-info')\n",
    "    #links in listings\n",
    "    linksInListings =[] \n",
    "    # trích xuat thông tin từ các listing\n",
    "    for listing in listings:\n",
    "        # lấy thông tin\n",
    "        link = listing.find_element(By.CLASS_NAME,'link-overlay').get_attribute('href')\n",
    "        price = listing.find_element(By.CLASS_NAME,'price').text\n",
    "        area = listing.find_element(By.CLASS_NAME,'prop-attr').find_elements(By.TAG_NAME,'li')[0].text\n",
    "        room = listing.find_element(By.CLASS_NAME,'prop-attr').find_elements(By.TAG_NAME,'li')[1].text\n",
    "        toilet = listing.find_element(By.CLASS_NAME,'prop-attr').find_elements(By.TAG_NAME,'li')[2].text\n",
    "        # thêm thông tin vào danh sách\n",
    "        links.append(link)\n",
    "        prices.append(price)\n",
    "        areas.append(area)\n",
    "        rooms.append(room)\n",
    "        toilets.append(toilet)\n",
    "        linksInListings.append(link)\n",
    "    # trích xuất địa chỉ từ các link\n",
    "    for link in linksInListings:\n",
    "        driver.get(link)\n",
    "        time.sleep(0.5)\n",
    "        address = driver.find_element(By.CLASS_NAME,'address').text\n",
    "        addresses.append(address)\n",
    "        (lat,long)=get_location(address)\n",
    "        lats.append(lat)\n",
    "        longs.append(long)\n",
    "\n",
    "    print(f'Page {page} done')\n",
    "\n",
    "# Print the number of links extracted\n",
    "print(f'{len(links)} links extracted')\n",
    "\n",
    "# Close the web driver\n",
    "driver.quit()"
   ]
  },
  {
   "cell_type": "code",
   "execution_count": 16,
   "metadata": {},
   "outputs": [
    {
     "name": "stdout",
     "output_type": "stream",
     "text": [
      "                                                link           price   area  \\\n",
      "0  https://mogi.vn/quan-ngu-hanh-son/mua-can-ho-c...  3 tỷ 449 triệu  82 m2   \n",
      "1  https://mogi.vn/quan-ngu-hanh-son/mua-can-ho-c...  3 tỷ 499 triệu  82 m2   \n",
      "2  https://mogi.vn/quan-ngu-hanh-son/mua-can-ho-c...  3 tỷ 500 triệu  82 m2   \n",
      "3  https://mogi.vn/quan-ngu-hanh-son/mua-can-ho-c...  3 tỷ 500 triệu  83 m2   \n",
      "4  https://mogi.vn/quan-ngu-hanh-son/mua-can-ho-c...  3 tỷ 500 triệu  82 m2   \n",
      "\n",
      "   room toilet                                            address       lat  \\\n",
      "0  2 PN   2 WC  Phạm Kiệt, Phường Khuê Mỹ, Quận Ngũ Hành Sơn, ...  16.03851   \n",
      "1  2 PN   2 WC  Phạm Kiệt, Phường Khuê Mỹ, Quận Ngũ Hành Sơn, ...  16.03851   \n",
      "2  2 PN   2 WC  Phạm Kiệt, Phường Khuê Mỹ, Quận Ngũ Hành Sơn, ...  16.03851   \n",
      "3  2 PN   2 WC  Phạm Kiệt, Phường Khuê Mỹ, Quận Ngũ Hành Sơn, ...  16.03851   \n",
      "4  2 PN   2 WC  Phạm Kiệt, Phường Khuê Mỹ, Quận Ngũ Hành Sơn, ...  16.03851   \n",
      "\n",
      "        long  \n",
      "0  108.24755  \n",
      "1  108.24755  \n",
      "2  108.24755  \n",
      "3  108.24755  \n",
      "4  108.24755  \n"
     ]
    }
   ],
   "source": [
    "import pandas as pd\n",
    "#tạo dataframe và lưu vào file csv\n",
    "df = pd.DataFrame({'link': links, 'price': prices,'area':areas,'room':rooms,'toilet':toilets,'address':addresses,'lat':lats,'long':longs})\n",
    "print(df.head())\n",
    "df.to_csv('raw_SMALL.csv', index=False)"
   ]
  }
 ],
 "metadata": {
  "kernelspec": {
   "display_name": "Python 3",
   "language": "python",
   "name": "python3"
  },
  "language_info": {
   "codemirror_mode": {
    "name": "ipython",
    "version": 3
   },
   "file_extension": ".py",
   "mimetype": "text/x-python",
   "name": "python",
   "nbconvert_exporter": "python",
   "pygments_lexer": "ipython3",
   "version": "3.10.5"
  },
  "orig_nbformat": 4
 },
 "nbformat": 4,
 "nbformat_minor": 2
}
